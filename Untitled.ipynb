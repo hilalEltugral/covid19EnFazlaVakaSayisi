{
 "cells": [
  {
   "cell_type": "code",
   "execution_count": 1,
   "metadata": {},
   "outputs": [],
   "source": [
    "import pandas as pd\n",
    "import numpy as np\n",
    "import matplotlib.pyplot as plt\n",
    "import seaborn as sns"
   ]
  },
  {
   "cell_type": "code",
   "execution_count": 2,
   "metadata": {},
   "outputs": [
    {
     "name": "stdout",
     "output_type": "stream",
     "text": [
      "           SNo ObservationDate     Province/State  Country/Region  \\\n",
      "0            1      01/22/2020              Anhui  Mainland China   \n",
      "1            2      01/22/2020            Beijing  Mainland China   \n",
      "2            3      01/22/2020          Chongqing  Mainland China   \n",
      "3            4      01/22/2020             Fujian  Mainland China   \n",
      "4            5      01/22/2020              Gansu  Mainland China   \n",
      "...        ...             ...                ...             ...   \n",
      "205946  205947      01/19/2021  Zaporizhia Oblast         Ukraine   \n",
      "205947  205948      01/19/2021            Zeeland     Netherlands   \n",
      "205948  205949      01/19/2021           Zhejiang  Mainland China   \n",
      "205949  205950      01/19/2021    Zhytomyr Oblast         Ukraine   \n",
      "205950  205951      01/19/2021       Zuid-Holland     Netherlands   \n",
      "\n",
      "                Last Update  Confirmed  Deaths  Recovered  \n",
      "0           1/22/2020 17:00        1.0     0.0        0.0  \n",
      "1           1/22/2020 17:00       14.0     0.0        0.0  \n",
      "2           1/22/2020 17:00        6.0     0.0        0.0  \n",
      "3           1/22/2020 17:00        1.0     0.0        0.0  \n",
      "4           1/22/2020 17:00        0.0     0.0        0.0  \n",
      "...                     ...        ...     ...        ...  \n",
      "205946  2021-01-20 05:21:54    62492.0   738.0    39168.0  \n",
      "205947  2021-01-20 05:21:54    13031.0   149.0        0.0  \n",
      "205948  2021-01-20 05:21:54     1316.0     1.0     1298.0  \n",
      "205949  2021-01-20 05:21:54    42758.0   707.0    37834.0  \n",
      "205950  2021-01-20 05:21:54   224398.0  3153.0        0.0  \n",
      "\n",
      "[205951 rows x 8 columns]\n"
     ]
    }
   ],
   "source": [
    "df=pd.read_csv(\"covid_19_data.csv\")\n",
    "print(df)"
   ]
  },
  {
   "cell_type": "code",
   "execution_count": 3,
   "metadata": {},
   "outputs": [
    {
     "name": "stdout",
     "output_type": "stream",
     "text": [
      "<class 'pandas.core.frame.DataFrame'>\n",
      "RangeIndex: 205951 entries, 0 to 205950\n",
      "Data columns (total 8 columns):\n",
      " #   Column           Non-Null Count   Dtype  \n",
      "---  ------           --------------   -----  \n",
      " 0   SNo              205951 non-null  int64  \n",
      " 1   ObservationDate  205951 non-null  object \n",
      " 2   Province/State   150574 non-null  object \n",
      " 3   Country/Region   205951 non-null  object \n",
      " 4   Last Update      205951 non-null  object \n",
      " 5   Confirmed        205951 non-null  float64\n",
      " 6   Deaths           205951 non-null  float64\n",
      " 7   Recovered        205951 non-null  float64\n",
      "dtypes: float64(3), int64(1), object(4)\n",
      "memory usage: 12.6+ MB\n"
     ]
    }
   ],
   "source": [
    "df.info()"
   ]
  },
  {
   "cell_type": "code",
   "execution_count": 4,
   "metadata": {},
   "outputs": [
    {
     "data": {
      "text/plain": [
       "Province/State     55377\n",
       "Recovered              0\n",
       "Deaths                 0\n",
       "Confirmed              0\n",
       "Last Update            0\n",
       "Country/Region         0\n",
       "ObservationDate        0\n",
       "SNo                    0\n",
       "dtype: int64"
      ]
     },
     "execution_count": 4,
     "metadata": {},
     "output_type": "execute_result"
    }
   ],
   "source": [
    "df.isnull().sum().sort_values(ascending=False)"
   ]
  },
  {
   "cell_type": "code",
   "execution_count": 5,
   "metadata": {},
   "outputs": [],
   "source": [
    "df2=df.dropna(how=\"any\" )"
   ]
  },
  {
   "cell_type": "code",
   "execution_count": 6,
   "metadata": {},
   "outputs": [
    {
     "data": {
      "text/plain": [
       "Recovered          0\n",
       "Deaths             0\n",
       "Confirmed          0\n",
       "Last Update        0\n",
       "Country/Region     0\n",
       "Province/State     0\n",
       "ObservationDate    0\n",
       "SNo                0\n",
       "dtype: int64"
      ]
     },
     "execution_count": 6,
     "metadata": {},
     "output_type": "execute_result"
    }
   ],
   "source": [
    "df2.isnull().sum().sort_values(ascending=False)"
   ]
  },
  {
   "cell_type": "code",
   "execution_count": 7,
   "metadata": {},
   "outputs": [
    {
     "data": {
      "text/html": [
       "<div>\n",
       "<style scoped>\n",
       "    .dataframe tbody tr th:only-of-type {\n",
       "        vertical-align: middle;\n",
       "    }\n",
       "\n",
       "    .dataframe tbody tr th {\n",
       "        vertical-align: top;\n",
       "    }\n",
       "\n",
       "    .dataframe thead th {\n",
       "        text-align: right;\n",
       "    }\n",
       "</style>\n",
       "<table border=\"1\" class=\"dataframe\">\n",
       "  <thead>\n",
       "    <tr style=\"text-align: right;\">\n",
       "      <th></th>\n",
       "      <th>SNo</th>\n",
       "      <th>ObservationDate</th>\n",
       "      <th>Province/State</th>\n",
       "      <th>Country/Region</th>\n",
       "      <th>Last Update</th>\n",
       "      <th>Confirmed</th>\n",
       "      <th>Deaths</th>\n",
       "      <th>Recovered</th>\n",
       "    </tr>\n",
       "  </thead>\n",
       "  <tbody>\n",
       "    <tr>\n",
       "      <th>0</th>\n",
       "      <td>1</td>\n",
       "      <td>01/22/2020</td>\n",
       "      <td>Anhui</td>\n",
       "      <td>Mainland China</td>\n",
       "      <td>1/22/2020 17:00</td>\n",
       "      <td>1.0</td>\n",
       "      <td>0.0</td>\n",
       "      <td>0.0</td>\n",
       "    </tr>\n",
       "    <tr>\n",
       "      <th>1</th>\n",
       "      <td>2</td>\n",
       "      <td>01/22/2020</td>\n",
       "      <td>Beijing</td>\n",
       "      <td>Mainland China</td>\n",
       "      <td>1/22/2020 17:00</td>\n",
       "      <td>14.0</td>\n",
       "      <td>0.0</td>\n",
       "      <td>0.0</td>\n",
       "    </tr>\n",
       "    <tr>\n",
       "      <th>2</th>\n",
       "      <td>3</td>\n",
       "      <td>01/22/2020</td>\n",
       "      <td>Chongqing</td>\n",
       "      <td>Mainland China</td>\n",
       "      <td>1/22/2020 17:00</td>\n",
       "      <td>6.0</td>\n",
       "      <td>0.0</td>\n",
       "      <td>0.0</td>\n",
       "    </tr>\n",
       "    <tr>\n",
       "      <th>3</th>\n",
       "      <td>4</td>\n",
       "      <td>01/22/2020</td>\n",
       "      <td>Fujian</td>\n",
       "      <td>Mainland China</td>\n",
       "      <td>1/22/2020 17:00</td>\n",
       "      <td>1.0</td>\n",
       "      <td>0.0</td>\n",
       "      <td>0.0</td>\n",
       "    </tr>\n",
       "    <tr>\n",
       "      <th>4</th>\n",
       "      <td>5</td>\n",
       "      <td>01/22/2020</td>\n",
       "      <td>Gansu</td>\n",
       "      <td>Mainland China</td>\n",
       "      <td>1/22/2020 17:00</td>\n",
       "      <td>0.0</td>\n",
       "      <td>0.0</td>\n",
       "      <td>0.0</td>\n",
       "    </tr>\n",
       "    <tr>\n",
       "      <th>...</th>\n",
       "      <td>...</td>\n",
       "      <td>...</td>\n",
       "      <td>...</td>\n",
       "      <td>...</td>\n",
       "      <td>...</td>\n",
       "      <td>...</td>\n",
       "      <td>...</td>\n",
       "      <td>...</td>\n",
       "    </tr>\n",
       "    <tr>\n",
       "      <th>205946</th>\n",
       "      <td>205947</td>\n",
       "      <td>01/19/2021</td>\n",
       "      <td>Zaporizhia Oblast</td>\n",
       "      <td>Ukraine</td>\n",
       "      <td>2021-01-20 05:21:54</td>\n",
       "      <td>62492.0</td>\n",
       "      <td>738.0</td>\n",
       "      <td>39168.0</td>\n",
       "    </tr>\n",
       "    <tr>\n",
       "      <th>205947</th>\n",
       "      <td>205948</td>\n",
       "      <td>01/19/2021</td>\n",
       "      <td>Zeeland</td>\n",
       "      <td>Netherlands</td>\n",
       "      <td>2021-01-20 05:21:54</td>\n",
       "      <td>13031.0</td>\n",
       "      <td>149.0</td>\n",
       "      <td>0.0</td>\n",
       "    </tr>\n",
       "    <tr>\n",
       "      <th>205948</th>\n",
       "      <td>205949</td>\n",
       "      <td>01/19/2021</td>\n",
       "      <td>Zhejiang</td>\n",
       "      <td>Mainland China</td>\n",
       "      <td>2021-01-20 05:21:54</td>\n",
       "      <td>1316.0</td>\n",
       "      <td>1.0</td>\n",
       "      <td>1298.0</td>\n",
       "    </tr>\n",
       "    <tr>\n",
       "      <th>205949</th>\n",
       "      <td>205950</td>\n",
       "      <td>01/19/2021</td>\n",
       "      <td>Zhytomyr Oblast</td>\n",
       "      <td>Ukraine</td>\n",
       "      <td>2021-01-20 05:21:54</td>\n",
       "      <td>42758.0</td>\n",
       "      <td>707.0</td>\n",
       "      <td>37834.0</td>\n",
       "    </tr>\n",
       "    <tr>\n",
       "      <th>205950</th>\n",
       "      <td>205951</td>\n",
       "      <td>01/19/2021</td>\n",
       "      <td>Zuid-Holland</td>\n",
       "      <td>Netherlands</td>\n",
       "      <td>2021-01-20 05:21:54</td>\n",
       "      <td>224398.0</td>\n",
       "      <td>3153.0</td>\n",
       "      <td>0.0</td>\n",
       "    </tr>\n",
       "  </tbody>\n",
       "</table>\n",
       "<p>150574 rows × 8 columns</p>\n",
       "</div>"
      ],
      "text/plain": [
       "           SNo ObservationDate     Province/State  Country/Region  \\\n",
       "0            1      01/22/2020              Anhui  Mainland China   \n",
       "1            2      01/22/2020            Beijing  Mainland China   \n",
       "2            3      01/22/2020          Chongqing  Mainland China   \n",
       "3            4      01/22/2020             Fujian  Mainland China   \n",
       "4            5      01/22/2020              Gansu  Mainland China   \n",
       "...        ...             ...                ...             ...   \n",
       "205946  205947      01/19/2021  Zaporizhia Oblast         Ukraine   \n",
       "205947  205948      01/19/2021            Zeeland     Netherlands   \n",
       "205948  205949      01/19/2021           Zhejiang  Mainland China   \n",
       "205949  205950      01/19/2021    Zhytomyr Oblast         Ukraine   \n",
       "205950  205951      01/19/2021       Zuid-Holland     Netherlands   \n",
       "\n",
       "                Last Update  Confirmed  Deaths  Recovered  \n",
       "0           1/22/2020 17:00        1.0     0.0        0.0  \n",
       "1           1/22/2020 17:00       14.0     0.0        0.0  \n",
       "2           1/22/2020 17:00        6.0     0.0        0.0  \n",
       "3           1/22/2020 17:00        1.0     0.0        0.0  \n",
       "4           1/22/2020 17:00        0.0     0.0        0.0  \n",
       "...                     ...        ...     ...        ...  \n",
       "205946  2021-01-20 05:21:54    62492.0   738.0    39168.0  \n",
       "205947  2021-01-20 05:21:54    13031.0   149.0        0.0  \n",
       "205948  2021-01-20 05:21:54     1316.0     1.0     1298.0  \n",
       "205949  2021-01-20 05:21:54    42758.0   707.0    37834.0  \n",
       "205950  2021-01-20 05:21:54   224398.0  3153.0        0.0  \n",
       "\n",
       "[150574 rows x 8 columns]"
      ]
     },
     "execution_count": 7,
     "metadata": {},
     "output_type": "execute_result"
    }
   ],
   "source": [
    "df2"
   ]
  },
  {
   "cell_type": "code",
   "execution_count": 8,
   "metadata": {},
   "outputs": [],
   "source": [
    "A=df2.groupby([\"Country/Region\"])[[\"Confirmed\"]].max().head(20) "
   ]
  },
  {
   "cell_type": "code",
   "execution_count": 9,
   "metadata": {},
   "outputs": [],
   "source": [
    "A=A.reset_index()"
   ]
  },
  {
   "cell_type": "code",
   "execution_count": 10,
   "metadata": {},
   "outputs": [
    {
     "data": {
      "text/html": [
       "<div>\n",
       "<style scoped>\n",
       "    .dataframe tbody tr th:only-of-type {\n",
       "        vertical-align: middle;\n",
       "    }\n",
       "\n",
       "    .dataframe tbody tr th {\n",
       "        vertical-align: top;\n",
       "    }\n",
       "\n",
       "    .dataframe thead th {\n",
       "        text-align: right;\n",
       "    }\n",
       "</style>\n",
       "<table border=\"1\" class=\"dataframe\">\n",
       "  <thead>\n",
       "    <tr style=\"text-align: right;\">\n",
       "      <th></th>\n",
       "      <th>Country/Region</th>\n",
       "      <th>Confirmed</th>\n",
       "    </tr>\n",
       "  </thead>\n",
       "  <tbody>\n",
       "    <tr>\n",
       "      <th>11</th>\n",
       "      <td>India</td>\n",
       "      <td>1994977.0</td>\n",
       "    </tr>\n",
       "    <tr>\n",
       "      <th>3</th>\n",
       "      <td>Brazil</td>\n",
       "      <td>1644225.0</td>\n",
       "    </tr>\n",
       "    <tr>\n",
       "      <th>6</th>\n",
       "      <td>Colombia</td>\n",
       "      <td>566276.0</td>\n",
       "    </tr>\n",
       "    <tr>\n",
       "      <th>14</th>\n",
       "      <td>Italy</td>\n",
       "      <td>516285.0</td>\n",
       "    </tr>\n",
       "    <tr>\n",
       "      <th>9</th>\n",
       "      <td>Germany</td>\n",
       "      <td>456855.0</td>\n",
       "    </tr>\n",
       "    <tr>\n",
       "      <th>19</th>\n",
       "      <td>Mexico</td>\n",
       "      <td>416989.0</td>\n",
       "    </tr>\n",
       "    <tr>\n",
       "      <th>5</th>\n",
       "      <td>Chile</td>\n",
       "      <td>333217.0</td>\n",
       "    </tr>\n",
       "    <tr>\n",
       "      <th>4</th>\n",
       "      <td>Canada</td>\n",
       "      <td>247144.0</td>\n",
       "    </tr>\n",
       "    <tr>\n",
       "      <th>2</th>\n",
       "      <td>Belgium</td>\n",
       "      <td>105855.0</td>\n",
       "    </tr>\n",
       "    <tr>\n",
       "      <th>15</th>\n",
       "      <td>Japan</td>\n",
       "      <td>87982.0</td>\n",
       "    </tr>\n",
       "    <tr>\n",
       "      <th>18</th>\n",
       "      <td>Mainland China</td>\n",
       "      <td>68149.0</td>\n",
       "    </tr>\n",
       "    <tr>\n",
       "      <th>0</th>\n",
       "      <td>Australia</td>\n",
       "      <td>20433.0</td>\n",
       "    </tr>\n",
       "    <tr>\n",
       "      <th>8</th>\n",
       "      <td>France</td>\n",
       "      <td>19874.0</td>\n",
       "    </tr>\n",
       "    <tr>\n",
       "      <th>10</th>\n",
       "      <td>Hong Kong</td>\n",
       "      <td>9720.0</td>\n",
       "    </tr>\n",
       "    <tr>\n",
       "      <th>7</th>\n",
       "      <td>Denmark</td>\n",
       "      <td>1326.0</td>\n",
       "    </tr>\n",
       "    <tr>\n",
       "      <th>17</th>\n",
       "      <td>Macau</td>\n",
       "      <td>46.0</td>\n",
       "    </tr>\n",
       "    <tr>\n",
       "      <th>1</th>\n",
       "      <td>Austria</td>\n",
       "      <td>2.0</td>\n",
       "    </tr>\n",
       "    <tr>\n",
       "      <th>13</th>\n",
       "      <td>Israel</td>\n",
       "      <td>1.0</td>\n",
       "    </tr>\n",
       "    <tr>\n",
       "      <th>16</th>\n",
       "      <td>Lebanon</td>\n",
       "      <td>1.0</td>\n",
       "    </tr>\n",
       "    <tr>\n",
       "      <th>12</th>\n",
       "      <td>Iraq</td>\n",
       "      <td>0.0</td>\n",
       "    </tr>\n",
       "  </tbody>\n",
       "</table>\n",
       "</div>"
      ],
      "text/plain": [
       "    Country/Region  Confirmed\n",
       "11           India  1994977.0\n",
       "3           Brazil  1644225.0\n",
       "6         Colombia   566276.0\n",
       "14           Italy   516285.0\n",
       "9          Germany   456855.0\n",
       "19          Mexico   416989.0\n",
       "5            Chile   333217.0\n",
       "4           Canada   247144.0\n",
       "2          Belgium   105855.0\n",
       "15           Japan    87982.0\n",
       "18  Mainland China    68149.0\n",
       "0        Australia    20433.0\n",
       "8           France    19874.0\n",
       "10       Hong Kong     9720.0\n",
       "7          Denmark     1326.0\n",
       "17           Macau       46.0\n",
       "1          Austria        2.0\n",
       "13          Israel        1.0\n",
       "16         Lebanon        1.0\n",
       "12            Iraq        0.0"
      ]
     },
     "execution_count": 10,
     "metadata": {},
     "output_type": "execute_result"
    }
   ],
   "source": [
    "a=A.sort_values(by='Confirmed', ascending=False)\n",
    "a"
   ]
  },
  {
   "cell_type": "code",
   "execution_count": 11,
   "metadata": {
    "scrolled": true
   },
   "outputs": [
    {
     "data": {
      "image/png": "[encoded data removed]",
      "text/plain": [
       "<Figure size 360x360 with 1 Axes>"
      ]
     },
     "metadata": {
      "needs_background": "light"
     },
     "output_type": "display_data"
    }
   ],
   "source": [
    "plt.figure(figsize=(5,5))\n",
    "sns.barplot(x=\"Confirmed\", y=\"Country/Region\", data=a);"
   ]
  },
  {
   "cell_type": "code",
   "execution_count": 12,
   "metadata": {},
   "outputs": [
    {
     "data": {
      "text/html": [
       "<div>\n",
       "<style scoped>\n",
       "    .dataframe tbody tr th:only-of-type {\n",
       "        vertical-align: middle;\n",
       "    }\n",
       "\n",
       "    .dataframe tbody tr th {\n",
       "        vertical-align: top;\n",
       "    }\n",
       "\n",
       "    .dataframe thead th {\n",
       "        text-align: right;\n",
       "    }\n",
       "</style>\n",
       "<table border=\"1\" class=\"dataframe\">\n",
       "  <thead>\n",
       "    <tr style=\"text-align: right;\">\n",
       "      <th></th>\n",
       "      <th>SNo</th>\n",
       "      <th>ObservationDate</th>\n",
       "      <th>Province/State</th>\n",
       "      <th>Country/Region</th>\n",
       "      <th>Last Update</th>\n",
       "      <th>Confirmed</th>\n",
       "      <th>Deaths</th>\n",
       "      <th>Recovered</th>\n",
       "    </tr>\n",
       "  </thead>\n",
       "  <tbody>\n",
       "    <tr>\n",
       "      <th>38902</th>\n",
       "      <td>38903</td>\n",
       "      <td>06/10/2020</td>\n",
       "      <td>Andaman and Nicobar Islands</td>\n",
       "      <td>India</td>\n",
       "      <td>2020-06-11 03:33:41</td>\n",
       "      <td>33.0</td>\n",
       "      <td>0.0</td>\n",
       "      <td>33.0</td>\n",
       "    </tr>\n",
       "    <tr>\n",
       "      <th>38903</th>\n",
       "      <td>38904</td>\n",
       "      <td>06/10/2020</td>\n",
       "      <td>Andhra Pradesh</td>\n",
       "      <td>India</td>\n",
       "      <td>2020-06-11 03:33:41</td>\n",
       "      <td>5070.0</td>\n",
       "      <td>77.0</td>\n",
       "      <td>2802.0</td>\n",
       "    </tr>\n",
       "    <tr>\n",
       "      <th>38919</th>\n",
       "      <td>38920</td>\n",
       "      <td>06/10/2020</td>\n",
       "      <td>Arunachal Pradesh</td>\n",
       "      <td>India</td>\n",
       "      <td>2020-06-11 03:33:41</td>\n",
       "      <td>57.0</td>\n",
       "      <td>0.0</td>\n",
       "      <td>1.0</td>\n",
       "    </tr>\n",
       "    <tr>\n",
       "      <th>38920</th>\n",
       "      <td>38921</td>\n",
       "      <td>06/10/2020</td>\n",
       "      <td>Assam</td>\n",
       "      <td>India</td>\n",
       "      <td>2020-06-11 03:33:41</td>\n",
       "      <td>2937.0</td>\n",
       "      <td>4.0</td>\n",
       "      <td>1085.0</td>\n",
       "    </tr>\n",
       "    <tr>\n",
       "      <th>38942</th>\n",
       "      <td>38943</td>\n",
       "      <td>06/10/2020</td>\n",
       "      <td>Bihar</td>\n",
       "      <td>India</td>\n",
       "      <td>2020-06-11 03:33:41</td>\n",
       "      <td>5459.0</td>\n",
       "      <td>32.0</td>\n",
       "      <td>2864.0</td>\n",
       "    </tr>\n",
       "    <tr>\n",
       "      <th>...</th>\n",
       "      <td>...</td>\n",
       "      <td>...</td>\n",
       "      <td>...</td>\n",
       "      <td>...</td>\n",
       "      <td>...</td>\n",
       "      <td>...</td>\n",
       "      <td>...</td>\n",
       "      <td>...</td>\n",
       "    </tr>\n",
       "    <tr>\n",
       "      <th>205874</th>\n",
       "      <td>205875</td>\n",
       "      <td>01/19/2021</td>\n",
       "      <td>Tripura</td>\n",
       "      <td>India</td>\n",
       "      <td>2021-01-20 05:21:54</td>\n",
       "      <td>33336.0</td>\n",
       "      <td>391.0</td>\n",
       "      <td>32907.0</td>\n",
       "    </tr>\n",
       "    <tr>\n",
       "      <th>205889</th>\n",
       "      <td>205890</td>\n",
       "      <td>01/19/2021</td>\n",
       "      <td>Unknown</td>\n",
       "      <td>India</td>\n",
       "      <td>2021-01-20 05:21:54</td>\n",
       "      <td>0.0</td>\n",
       "      <td>0.0</td>\n",
       "      <td>0.0</td>\n",
       "    </tr>\n",
       "    <tr>\n",
       "      <th>205899</th>\n",
       "      <td>205900</td>\n",
       "      <td>01/19/2021</td>\n",
       "      <td>Uttar Pradesh</td>\n",
       "      <td>India</td>\n",
       "      <td>2021-01-20 05:21:54</td>\n",
       "      <td>597238.0</td>\n",
       "      <td>8584.0</td>\n",
       "      <td>580482.0</td>\n",
       "    </tr>\n",
       "    <tr>\n",
       "      <th>205900</th>\n",
       "      <td>205901</td>\n",
       "      <td>01/19/2021</td>\n",
       "      <td>Uttarakhand</td>\n",
       "      <td>India</td>\n",
       "      <td>2021-01-20 05:21:54</td>\n",
       "      <td>95039.0</td>\n",
       "      <td>1619.0</td>\n",
       "      <td>91428.0</td>\n",
       "    </tr>\n",
       "    <tr>\n",
       "      <th>205928</th>\n",
       "      <td>205929</td>\n",
       "      <td>01/19/2021</td>\n",
       "      <td>West Bengal</td>\n",
       "      <td>India</td>\n",
       "      <td>2021-01-20 05:21:54</td>\n",
       "      <td>566073.0</td>\n",
       "      <td>10074.0</td>\n",
       "      <td>549218.0</td>\n",
       "    </tr>\n",
       "  </tbody>\n",
       "</table>\n",
       "<p>8240 rows × 8 columns</p>\n",
       "</div>"
      ],
      "text/plain": [
       "           SNo ObservationDate               Province/State Country/Region  \\\n",
       "38902    38903      06/10/2020  Andaman and Nicobar Islands          India   \n",
       "38903    38904      06/10/2020               Andhra Pradesh          India   \n",
       "38919    38920      06/10/2020            Arunachal Pradesh          India   \n",
       "38920    38921      06/10/2020                        Assam          India   \n",
       "38942    38943      06/10/2020                        Bihar          India   \n",
       "...        ...             ...                          ...            ...   \n",
       "205874  205875      01/19/2021                      Tripura          India   \n",
       "205889  205890      01/19/2021                      Unknown          India   \n",
       "205899  205900      01/19/2021                Uttar Pradesh          India   \n",
       "205900  205901      01/19/2021                  Uttarakhand          India   \n",
       "205928  205929      01/19/2021                  West Bengal          India   \n",
       "\n",
       "                Last Update  Confirmed   Deaths  Recovered  \n",
       "38902   2020-06-11 03:33:41       33.0      0.0       33.0  \n",
       "38903   2020-06-11 03:33:41     5070.0     77.0     2802.0  \n",
       "38919   2020-06-11 03:33:41       57.0      0.0        1.0  \n",
       "38920   2020-06-11 03:33:41     2937.0      4.0     1085.0  \n",
       "38942   2020-06-11 03:33:41     5459.0     32.0     2864.0  \n",
       "...                     ...        ...      ...        ...  \n",
       "205874  2021-01-20 05:21:54    33336.0    391.0    32907.0  \n",
       "205889  2021-01-20 05:21:54        0.0      0.0        0.0  \n",
       "205899  2021-01-20 05:21:54   597238.0   8584.0   580482.0  \n",
       "205900  2021-01-20 05:21:54    95039.0   1619.0    91428.0  \n",
       "205928  2021-01-20 05:21:54   566073.0  10074.0   549218.0  \n",
       "\n",
       "[8240 rows x 8 columns]"
      ]
     },
     "execution_count": 12,
     "metadata": {},
     "output_type": "execute_result"
    }
   ],
   "source": [
    "hindistan=df2[df2[\"Country/Region\"]==\"India\"]\n",
    "hindistan"
   ]
  },
  {
   "cell_type": "code",
   "execution_count": 13,
   "metadata": {},
   "outputs": [],
   "source": [
    "hindistan=df2[df2[\"Country/Region\"]==\"India\"].max()"
   ]
  },
  {
   "cell_type": "code",
   "execution_count": 14,
   "metadata": {
    "scrolled": true
   },
   "outputs": [
    {
     "data": {
      "text/plain": [
       "SNo                             205929\n",
       "ObservationDate             12/31/2020\n",
       "Province/State             West Bengal\n",
       "Country/Region                   India\n",
       "Last Update        2021-01-20 05:21:54\n",
       "Confirmed                  1.99498e+06\n",
       "Deaths                           50523\n",
       "Recovered                  1.89484e+06\n",
       "dtype: object"
      ]
     },
     "execution_count": 14,
     "metadata": {},
     "output_type": "execute_result"
    }
   ],
   "source": [
    "hindistan"
   ]
  },
  {
   "cell_type": "code",
   "execution_count": 17,
   "metadata": {},
   "outputs": [
    {
     "data": {
      "image/png": "[encoded data removed]",
      "text/plain": [
       "<Figure size 432x288 with 1 Axes>"
      ]
     },
     "metadata": {
      "needs_background": "light"
     },
     "output_type": "display_data"
    }
   ],
   "source": [
    "hindistan=df2[df2[\"Country/Region\"]==\"India\"]\n",
    "plt.plot(hindistan.Confirmed,hindistan.Recovered,\"orange\",label=\"Hindistan hastalan-kurtulan hasta sayısı\")\n",
    "plt.xlabel(\"Hastalan Sayısı\")\n",
    "plt.ylabel(\"Kurtulan Sayısı\")\n",
    "plt.title(\"Hindistan Hastalan-Kurtulan Sayısı\")\n",
    "plt.legend()\n",
    "plt.show()"
   ]
  },
  {
   "cell_type": "code",
   "execution_count": 20,
   "metadata": {},
   "outputs": [
    {
     "data": {
      "image/png": "[encoded data removed]",
      "text/plain": [
       "<Figure size 432x288 with 1 Axes>"
      ]
     },
     "metadata": {
      "needs_background": "light"
     },
     "output_type": "display_data"
    }
   ],
   "source": [
    "hindistan=df2[df2[\"Country/Region\"]==\"India\"]\n",
    "plt.plot(hindistan.Confirmed,hindistan.Deaths,\"green\",label=\"Hindistan hastalan-kurtulan hasta sayısı\")\n",
    "plt.xlabel(\"Hastalan Sayısı\")\n",
    "plt.ylabel(\"Ölen Sayısı\")\n",
    "plt.title(\"Hindistan Hastalan-Ölen Sayısı\")\n",
    "plt.legend()\n",
    "plt.show()"
   ]
  },
  {
   "cell_type": "code",
   "execution_count": 21,
   "metadata": {},
   "outputs": [
    {
     "data": {
      "image/png": "[encoded data removed]",
      "text/plain": [
       "<Figure size 432x288 with 1 Axes>"
      ]
     },
     "metadata": {
      "needs_background": "light"
     },
     "output_type": "display_data"
    }
   ],
   "source": [
    "hindistan=df2[df2[\"Country/Region\"]==\"India\"]\n",
    "plt.plot(hindistan.Recovered,hindistan.Deaths,\"y\",label=\"Hindistan hastalan-kurtulan hasta sayısı\")\n",
    "plt.xlabel(\"Kurtulan Sayısı\")\n",
    "plt.ylabel(\"Ölen Sayısı\")\n",
    "plt.title(\"Hindistan Ölen-Kurtulan Sayısı\")\n",
    "plt.legend()\n",
    "plt.show()"
   ]
  },
  {
   "cell_type": "code",
   "execution_count": null,
   "metadata": {},
   "outputs": [],
   "source": []
  }
 ],
 "metadata": {
  "kernelspec": {
   "display_name": "Python 3",
   "language": "python",
   "name": "python3"
  },
  "language_info": {
   "codemirror_mode": {
    "name": "ipython",
    "version": 3
   },
   "file_extension": ".py",
   "mimetype": "text/x-python",
   "name": "python",
   "nbconvert_exporter": "python",
   "pygments_lexer": "ipython3",
   "version": "3.8.3"
  }
 },
 "nbformat": 4,
 "nbformat_minor": 4
}
